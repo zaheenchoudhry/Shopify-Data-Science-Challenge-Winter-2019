{
 "cells": [
  {
   "cell_type": "markdown",
   "metadata": {},
   "source": [
    "## Shopify Data Science Challenge Winter 2019"
   ]
  },
  {
   "cell_type": "markdown",
   "metadata": {},
   "source": [
    "### Question 1 - Brief Analysis\n",
    "Provided here is a brief analysis of the answers to question 1. Please scroll below for a detailed analysis of these answers.\n",
    "\n",
    "a) An AOV of \\$3145.13 seems way off given the fact that the median of the data lies at \\$284. After sorting the data by order_amount, we can see that the data is skewed by a few orders where the total_items are bulk orders. This is not representative of an average customer who would order in low quantities.Once we graph a histogram of this data, we can see that the data is right skewed. The data is affected by a few extreme outliers that is bringing the value of the AOV up by a significant amount. This is why the naive way of calculating AOV is ineffective given the data.\n",
    "\n",
    "A better way to evaluate this data would be to remove the extreme outliers from our dataset, as these data points do not reflect the actions of an average user. One way to do this would be to calculate the Inter Quartile Range (IQR) of the dataset, and only consider data points that are within Q3 + (1.5 x IQR) and Q1 - (1.5 x IQR), where Q1 and Q3 are the first and third quartile respectively. Anything outside this rage is considered an outlier and ignored. We then take the mean of the remaining data points to calculate the AOV.\n",
    "\n",
    "An alternate way to evaluate the data would be to simply use the median since it is less affected by outliers and skewed data in the dataset. This is because the median is just the center most point of the dataset, whereas the mean is greatly affected by extreme outliers as seen in this dataset.\n",
    "\n",
    "b) (Ambiguous question since AOV is reported in dollar amounts. I assume that the question is asking for the names of the methods describes above)\n",
    "\n",
    "Recommended Method:\n",
    "Calculate mean of the remaining dataset after the elimination of Tukey Outliers\n",
    "\n",
    "Alternate Method:\n",
    "Use median value\n",
    "\n",
    "\n",
    "c) After using the method described above to calculate the AOV, we arrive at the following values:\n",
    "\n",
    "Recommended Method:\n",
    "\\$293.72\n",
    "\n",
    "Alternate Method:\n",
    "\\$284.00\n",
    "\n",
    "Using the method describes above, we get a AOV value of \\$293.72. This is much more reasonable than the naive AOV value calculated before, and is much closer to the median of \\$284. This value also captures the fact that some customers on Shopify stores order slightly larger quantities than the average customer, and thus the data is right skewed."
   ]
  },
  {
   "cell_type": "markdown",
   "metadata": {},
   "source": [
    "### Question 1 - Detailed Analysis\n",
    "\n",
    "We first load in the data provided and take a peek into the data."
   ]
  },
  {
   "cell_type": "code",
   "execution_count": 2,
   "metadata": {
    "collapsed": false,
    "deletable": true,
    "editable": true
   },
   "outputs": [
    {
     "data": {
      "text/html": [
       "<div>\n",
       "<style>\n",
       "    .dataframe thead tr:only-child th {\n",
       "        text-align: right;\n",
       "    }\n",
       "\n",
       "    .dataframe thead th {\n",
       "        text-align: left;\n",
       "    }\n",
       "\n",
       "    .dataframe tbody tr th {\n",
       "        vertical-align: top;\n",
       "    }\n",
       "</style>\n",
       "<table border=\"1\" class=\"dataframe\">\n",
       "  <thead>\n",
       "    <tr style=\"text-align: right;\">\n",
       "      <th></th>\n",
       "      <th>order_id</th>\n",
       "      <th>shop_id</th>\n",
       "      <th>user_id</th>\n",
       "      <th>order_amount</th>\n",
       "      <th>total_items</th>\n",
       "      <th>payment_method</th>\n",
       "      <th>created_at</th>\n",
       "    </tr>\n",
       "  </thead>\n",
       "  <tbody>\n",
       "    <tr>\n",
       "      <th>0</th>\n",
       "      <td>1</td>\n",
       "      <td>53</td>\n",
       "      <td>746</td>\n",
       "      <td>224</td>\n",
       "      <td>2</td>\n",
       "      <td>cash</td>\n",
       "      <td>2017-03-13 12:36:56</td>\n",
       "    </tr>\n",
       "    <tr>\n",
       "      <th>1</th>\n",
       "      <td>2</td>\n",
       "      <td>92</td>\n",
       "      <td>925</td>\n",
       "      <td>90</td>\n",
       "      <td>1</td>\n",
       "      <td>cash</td>\n",
       "      <td>2017-03-03 17:38:52</td>\n",
       "    </tr>\n",
       "    <tr>\n",
       "      <th>2</th>\n",
       "      <td>3</td>\n",
       "      <td>44</td>\n",
       "      <td>861</td>\n",
       "      <td>144</td>\n",
       "      <td>1</td>\n",
       "      <td>cash</td>\n",
       "      <td>2017-03-14 4:23:56</td>\n",
       "    </tr>\n",
       "    <tr>\n",
       "      <th>3</th>\n",
       "      <td>4</td>\n",
       "      <td>18</td>\n",
       "      <td>935</td>\n",
       "      <td>156</td>\n",
       "      <td>1</td>\n",
       "      <td>credit_card</td>\n",
       "      <td>2017-03-26 12:43:37</td>\n",
       "    </tr>\n",
       "    <tr>\n",
       "      <th>4</th>\n",
       "      <td>5</td>\n",
       "      <td>18</td>\n",
       "      <td>883</td>\n",
       "      <td>156</td>\n",
       "      <td>1</td>\n",
       "      <td>credit_card</td>\n",
       "      <td>2017-03-01 4:35:11</td>\n",
       "    </tr>\n",
       "  </tbody>\n",
       "</table>\n",
       "</div>"
      ],
      "text/plain": [
       "   order_id  shop_id  user_id  order_amount  total_items payment_method  \\\n",
       "0         1       53      746           224            2           cash   \n",
       "1         2       92      925            90            1           cash   \n",
       "2         3       44      861           144            1           cash   \n",
       "3         4       18      935           156            1    credit_card   \n",
       "4         5       18      883           156            1    credit_card   \n",
       "\n",
       "            created_at  \n",
       "0  2017-03-13 12:36:56  \n",
       "1  2017-03-03 17:38:52  \n",
       "2   2017-03-14 4:23:56  \n",
       "3  2017-03-26 12:43:37  \n",
       "4   2017-03-01 4:35:11  "
      ]
     },
     "execution_count": 2,
     "metadata": {},
     "output_type": "execute_result"
    }
   ],
   "source": [
    "import numpy as np\n",
    "import pandas as pd\n",
    "import matplotlib.pyplot as plt\n",
    "import seaborn as sb\n",
    "\n",
    "orderDf = pd.read_csv('2019 Winter Data Science Intern Challenge Data Set - Sheet1.csv')\n",
    "orderDf.head()"
   ]
  },
  {
   "cell_type": "markdown",
   "metadata": {},
   "source": [
    "Lets look at a few metrics of the data to understand it better."
   ]
  },
  {
   "cell_type": "code",
   "execution_count": 3,
   "metadata": {
    "collapsed": false,
    "deletable": true,
    "editable": true
   },
   "outputs": [
    {
     "data": {
      "text/plain": [
       "count      5000.000000\n",
       "mean       3145.128000\n",
       "std       41282.539349\n",
       "min          90.000000\n",
       "25%         163.000000\n",
       "50%         284.000000\n",
       "75%         390.000000\n",
       "max      704000.000000\n",
       "Name: order_amount, dtype: float64"
      ]
     },
     "execution_count": 3,
     "metadata": {},
     "output_type": "execute_result"
    }
   ],
   "source": [
    "orderDf.order_amount.describe()"
   ]
  },
  {
   "cell_type": "markdown",
   "metadata": {},
   "source": [
    "We can see that the median of the data is at \\$284, which is much lower than the naive AOV value of \\$3145.13. This means that the data is right skewed with extreme outliers bringing the value of the AOV up. Let us sort the data in descending order of order_amount to better understand what could be bringing the value of the AOV up."
   ]
  },
  {
   "cell_type": "code",
   "execution_count": 13,
   "metadata": {
    "collapsed": false
   },
   "outputs": [
    {
     "data": {
      "text/html": [
       "<div>\n",
       "<style>\n",
       "    .dataframe thead tr:only-child th {\n",
       "        text-align: right;\n",
       "    }\n",
       "\n",
       "    .dataframe thead th {\n",
       "        text-align: left;\n",
       "    }\n",
       "\n",
       "    .dataframe tbody tr th {\n",
       "        vertical-align: top;\n",
       "    }\n",
       "</style>\n",
       "<table border=\"1\" class=\"dataframe\">\n",
       "  <thead>\n",
       "    <tr style=\"text-align: right;\">\n",
       "      <th></th>\n",
       "      <th>order_id</th>\n",
       "      <th>shop_id</th>\n",
       "      <th>user_id</th>\n",
       "      <th>order_amount</th>\n",
       "      <th>total_items</th>\n",
       "      <th>payment_method</th>\n",
       "      <th>created_at</th>\n",
       "    </tr>\n",
       "  </thead>\n",
       "  <tbody>\n",
       "    <tr>\n",
       "      <th>2153</th>\n",
       "      <td>2154</td>\n",
       "      <td>42</td>\n",
       "      <td>607</td>\n",
       "      <td>704000</td>\n",
       "      <td>2000</td>\n",
       "      <td>credit_card</td>\n",
       "      <td>2017-03-12 4:00:00</td>\n",
       "    </tr>\n",
       "    <tr>\n",
       "      <th>3332</th>\n",
       "      <td>3333</td>\n",
       "      <td>42</td>\n",
       "      <td>607</td>\n",
       "      <td>704000</td>\n",
       "      <td>2000</td>\n",
       "      <td>credit_card</td>\n",
       "      <td>2017-03-24 4:00:00</td>\n",
       "    </tr>\n",
       "    <tr>\n",
       "      <th>520</th>\n",
       "      <td>521</td>\n",
       "      <td>42</td>\n",
       "      <td>607</td>\n",
       "      <td>704000</td>\n",
       "      <td>2000</td>\n",
       "      <td>credit_card</td>\n",
       "      <td>2017-03-02 4:00:00</td>\n",
       "    </tr>\n",
       "    <tr>\n",
       "      <th>1602</th>\n",
       "      <td>1603</td>\n",
       "      <td>42</td>\n",
       "      <td>607</td>\n",
       "      <td>704000</td>\n",
       "      <td>2000</td>\n",
       "      <td>credit_card</td>\n",
       "      <td>2017-03-17 4:00:00</td>\n",
       "    </tr>\n",
       "    <tr>\n",
       "      <th>60</th>\n",
       "      <td>61</td>\n",
       "      <td>42</td>\n",
       "      <td>607</td>\n",
       "      <td>704000</td>\n",
       "      <td>2000</td>\n",
       "      <td>credit_card</td>\n",
       "      <td>2017-03-04 4:00:00</td>\n",
       "    </tr>\n",
       "  </tbody>\n",
       "</table>\n",
       "</div>"
      ],
      "text/plain": [
       "      order_id  shop_id  user_id  order_amount  total_items payment_method  \\\n",
       "2153      2154       42      607        704000         2000    credit_card   \n",
       "3332      3333       42      607        704000         2000    credit_card   \n",
       "520        521       42      607        704000         2000    credit_card   \n",
       "1602      1603       42      607        704000         2000    credit_card   \n",
       "60          61       42      607        704000         2000    credit_card   \n",
       "\n",
       "              created_at  \n",
       "2153  2017-03-12 4:00:00  \n",
       "3332  2017-03-24 4:00:00  \n",
       "520   2017-03-02 4:00:00  \n",
       "1602  2017-03-17 4:00:00  \n",
       "60    2017-03-04 4:00:00  "
      ]
     },
     "execution_count": 13,
     "metadata": {},
     "output_type": "execute_result"
    }
   ],
   "source": [
    "sortedOrderDf = orderDf.sort_values(by='order_amount', ascending=False)\n",
    "sortedOrderDf.head()"
   ]
  },
  {
   "cell_type": "markdown",
   "metadata": {},
   "source": [
    "Here we see that the extremely high order_amount outliers are caused by bulk purchases that are not representative of an average customer who purchases shoes in low quantities. Let us view this data in a histogram to see the effect of these outleirs."
   ]
  },
  {
   "cell_type": "code",
   "execution_count": 19,
   "metadata": {
    "collapsed": false,
    "deletable": true,
    "editable": true
   },
   "outputs": [
    {
     "data": {
      "image/png": "[encoded data removed]",
      "text/plain": [
       "<matplotlib.figure.Figure at 0x1f34571fdd8>"
      ]
     },
     "metadata": {},
     "output_type": "display_data"
    }
   ],
   "source": [
    "plt.hist(orderDf.order_amount, 50)\n",
    "plt.show()"
   ]
  },
  {
   "cell_type": "markdown",
   "metadata": {},
   "source": [
    "By graphing the data in a histogram with 50 buckets, we can see that most of the dataset is concentrated in 1 bucket, except the outliers which are much further away than our concentrated bucket. \n",
    "\n",
    "To better evaluate the AOV of the data, we can simply use the median of the dataset since it is less affected by outliers and the skeweness of the dataset, whereas the mean is greatly affected by extreme outliers as seen in this dataset.\n",
    "\n",
    "However, I suggest using a different approach to evaluate the AOV of the dataset. Let us first start up displaying a boxplot of the dataset to better visualize how the data is effected by the outliers."
   ]
  },
  {
   "cell_type": "code",
   "execution_count": 55,
   "metadata": {
    "collapsed": false,
    "deletable": true,
    "editable": true
   },
   "outputs": [
    {
     "data": {
      "image/png": "[encoded data removed]",
      "text/plain": [
       "<matplotlib.figure.Figure at 0x1f3455275c0>"
      ]
     },
     "metadata": {},
     "output_type": "display_data"
    }
   ],
   "source": [
    "#sb.boxplot(data=orderDf.order_amount)\n",
    "plt.boxplot(orderDf.order_amount, vert=False)\n",
    "plt.show()"
   ]
  },
  {
   "cell_type": "markdown",
   "metadata": {},
   "source": [
    "We can see that our box that contains 50% of the dataset is barely visible. This is because of the effects of the extreme outliers that make the dataset right skewed and bring the value of the AOV up.\n",
    "\n",
    "The suggested way to better evaluate the AOV of the dataset would be to remove the extreme outliers from our dataset, as these data points do not reflect the actions of an average user. One way to do this would be to calculate the Inter Quartile Range (IQR) of the dataset, and only consider data points that are within Q3 + (1.5 x IQR) and Q1 - (1.5 x IQR), where Q1 and Q3 are the first and third quartile respectively. Anything outside this rage is considered an outlier and ignored. We then take the mean of the remaining data points to calculate the AOV.\n",
    "\n",
    "Let us define a function to remove these outliers and display the remaining data points in a histogram."
   ]
  },
  {
   "cell_type": "code",
   "execution_count": 69,
   "metadata": {
    "collapsed": false,
    "deletable": true,
    "editable": true
   },
   "outputs": [
    {
     "data": {
      "image/png": "[encoded data removed]",
      "text/plain": [
       "<matplotlib.figure.Figure at 0x1f34567de10>"
      ]
     },
     "metadata": {},
     "output_type": "display_data"
    }
   ],
   "source": [
    "orderDf.order_amount.quantile(0.75)\n",
    "orderDf.order_amount.quantile(0.25)\n",
    "def remove_tukey_outliers(data):\n",
    "    q1 = data.quantile(0.25)\n",
    "    q3 = data.quantile(0.75)\n",
    "    iqr = q3 - q1\n",
    "    lowerBound = q1 - (iqr * 1.5)\n",
    "    upperBound = q3 + (iqr * 1.5)\n",
    "    filteredData = [x for x in data if (lowerBound <= x <= upperBound)]\n",
    "    return filteredData\n",
    "\n",
    "filteredOrderAmount = remove_tukey_outliers(orderDf.order_amount)\n",
    "\n",
    "plt.hist(filteredOrderAmount, 50)\n",
    "plt.show()"
   ]
  },
  {
   "cell_type": "markdown",
   "metadata": {},
   "source": [
    "Even though the data is still right skewed, we can see a better representation of the purchasing habits of an average customer. We see that the order_amount of most customers range between 120-360, with a few others ordering shoes in slightly larger quantities. This behaviour is to be expected of an average custoemr buying shoes.\n",
    "\n",
    "Let us now use these remaining data points to calculate the AOV using the mean."
   ]
  },
  {
   "cell_type": "code",
   "execution_count": 71,
   "metadata": {
    "collapsed": false,
    "deletable": true,
    "editable": true
   },
   "outputs": [
    {
     "data": {
      "text/plain": [
       "293.71537353364891"
      ]
     },
     "execution_count": 71,
     "metadata": {},
     "output_type": "execute_result"
    }
   ],
   "source": [
    "np.mean(filteredOrderAmount)"
   ]
  },
  {
   "cell_type": "markdown",
   "metadata": {
    "collapsed": true,
    "deletable": true,
    "editable": true
   },
   "source": [
    "Using the method describes above, we get a AOV value of \\$293.72. This is much more reasonable than the naive AOV value calculated before, and is much closer to the median of \\$284. This value also captures the fact that some customers on Shopify stores order slightly larger quantities than the average customer, and thus the data is right skewed."
   ]
  },
  {
   "cell_type": "markdown",
   "metadata": {},
   "source": [
    "### Question 2 - Please see attached pdf.\n",
    "\n",
    "a) How many orders were shipped by Speedy Express in total?\n",
    "\n",
    "Query:\n",
    "\n",
    "SELECT Count (*) FROM Orders <br>\n",
    "INNER JOIN Shippers ON Orders.ShipperId = Shippers.ShipperId <br>\n",
    "WHERE ShipperName = \"Speedy Express\";\n",
    "\n",
    "Answer: 54\n",
    "\n",
    "b) What is the last name of the employee with the most orders?\n",
    "\n",
    "Query:\n",
    "\n",
    "SELECT Employees.LastName <br>\n",
    "FROM Orders <br>\n",
    "INNER JOIN Employees ON Orders.EmployeeID = Employees.EmployeeID <br>\n",
    "GROUP BY Orders.EmployeeID <br>\n",
    "ORDER BY count(*) desc <br>\n",
    "LIMIT 1;\n",
    "\n",
    "Answer: Peacock\n",
    "\n",
    "c) What product was ordered the most by customers in Germany?\n",
    "\n",
    "Query:\n",
    "\n",
    "SELECT ProductName <br>\n",
    "FROM Orders <br>\n",
    "INNER JOIN Customers ON Orders.CustomerID = Customers.CustomerID <br>\n",
    "INNER JOIN OrderDetails ON Orders.OrderID = OrderDetails.OrderID <br>\n",
    "INNER JOIN Products ON OrderDetails.ProductID = Products.ProductID <br>\n",
    "WHERE Customers.Country = \"Germany\" <br>\n",
    "GROUP BY OrderDetails.ProductID <br>\n",
    "ORDER BY SUM(OrderDetails.Quantity) desc <br>\n",
    "LIMIT 1;\n",
    "\n",
    "Answer: Boston Crab Meat\n"
   ]
  }
 ],
 "metadata": {
  "kernelspec": {
   "display_name": "Python 3",
   "language": "python",
   "name": "python3"
  },
  "language_info": {
   "codemirror_mode": {
    "name": "ipython",
    "version": 3
   },
   "file_extension": ".py",
   "mimetype": "text/x-python",
   "name": "python",
   "nbconvert_exporter": "python",
   "pygments_lexer": "ipython3",
   "version": "3.5.2"
  }
 },
 "nbformat": 4,
 "nbformat_minor": 2
}
